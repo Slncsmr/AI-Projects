{
 "cells": [
  {
   "cell_type": "code",
   "execution_count": null,
   "id": "eba8c9be",
   "metadata": {},
   "outputs": [],
   "source": [
    "import os\n",
    "import requests\n",
    "import gradio as gr\n",
    "from dotenv import load_dotenv\n",
    "\n",
    "# Load .env file\n",
    "load_dotenv()\n",
    "API_KEY = os.getenv(\"GEMINI_API_KEY\")\n",
    "\n",
    "# Gemini endpoint\n",
    "API_URL = f\"https://generativelanguage.googleapis.com/v1beta/models/gemini-2.0-flash:generateContent?key={API_KEY}\"\n",
    "\n",
    "# Function to summarize text\n",
    "def summarize_text(input_text):\n",
    "    prompt = f\"Summarize the following text:\\n\\n{input_text}\"\n",
    "    headers = {\"Content-Type\": \"application/json\"}\n",
    "    data = {\n",
    "        \"contents\": [\n",
    "            {\"parts\": [{\"text\": prompt}]}\n",
    "        ]\n",
    "    }\n",
    "\n",
    "    response = requests.post(API_URL, headers=headers, json=data)\n",
    "\n",
    "    if response.status_code == 200:\n",
    "        try:\n",
    "            result = response.json()\n",
    "            return result['candidates'][0]['content']['parts'][0]['text']\n",
    "        except Exception as e:\n",
    "            return f\"Error parsing response: {str(e)}\"\n",
    "    else:\n",
    "        return f\"API Error {response.status_code}: {response.text}\"\n",
    "\n",
    "# Gradio Interface\n",
    "gr.Interface(\n",
    "    fn=summarize_text,\n",
    "    inputs=gr.Textbox(lines=10, label=\"Enter text to summarize\"),\n",
    "    outputs=gr.Textbox(label=\"Summary\"),\n",
    "    title=\"Gemini Text Summarizer 🔮\"\n",
    ").launch()\n"
   ]
  }
 ],
 "metadata": {
  "kernelspec": {
   "display_name": "Python 3",
   "language": "python",
   "name": "python3"
  },
  "language_info": {
   "codemirror_mode": {
    "name": "ipython",
    "version": 3
   },
   "file_extension": ".py",
   "mimetype": "text/x-python",
   "name": "python",
   "nbconvert_exporter": "python",
   "pygments_lexer": "ipython3",
   "version": "3.12.9"
  }
 },
 "nbformat": 4,
 "nbformat_minor": 5
}
