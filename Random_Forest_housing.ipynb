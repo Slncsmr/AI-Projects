{
 "cells": [
  {
   "cell_type": "code",
   "execution_count": null,
   "metadata": {
    "vscode": {
     "languageId": "plaintext"
    }
   },
   "outputs": [],
   "source": [
    "import numpy as np\n",
    "import pandas as pd\n",
    "from sklearn.datasets import fetch_california_housing\n",
    "from sklearn.model_selection import train_test_split\n",
    "from sklearn.preprocessing import StandardScaler\n",
    "from sklearn.ensemble import RandomForestRegressor\n",
    "from sklearn.metrics import mean_squared_error, r2_score\n",
    "import matplotlib.pyplot as plt\n",
    "\n",
    "# Step 1: Load the California Housing dataset\n",
    "housing = fetch_california_housing()\n",
    "\n",
    "# Convert to DataFrame\n",
    "df = pd.DataFrame(housing.data, columns=housing.feature_names)\n",
    "df['PRICE'] = housing.target  # Add the target variable (house price)\n",
    "\n",
    "# Step 2: Split the data into features (X) and target (y)\n",
    "X = df.drop('PRICE', axis=1)  # Features\n",
    "y = df['PRICE']  # Target (House price)\n",
    "\n",
    "# Step 3: Apply Log Transformation to the target variable (y)\n",
    "y_log = np.log1p(y)  # log1p is log(1 + x), which avoids issues with zero values\n",
    "\n",
    "# Step 4: Split the data into training and test sets\n",
    "X_train, X_test, y_train, y_test = train_test_split(X, y_log, test_size=0.2, random_state=42)\n",
    "\n",
    "# Step 5: Feature Scaling\n",
    "scaler = StandardScaler()\n",
    "X_train = scaler.fit_transform(X_train)\n",
    "X_test = scaler.transform(X_test)  # Use the same scaler for the test set\n",
    "\n",
    "# Step 6: Train the Random Forest Model\n",
    "rf_model = RandomForestRegressor(n_estimators=100, random_state=42)\n",
    "rf_model.fit(X_train, y_train)\n",
    "\n",
    "# Step 7: Make predictions\n",
    "y_pred_log = rf_model.predict(X_test)\n",
    "\n",
    "# Step 8: Reverse the Log Transformation\n",
    "y_pred = np.expm1(y_pred_log)  # expm1 is the inverse of log1p\n",
    "\n",
    "# Step 9: Evaluate the Model\n",
    "mse = mean_squared_error(np.expm1(y_test), y_pred)  # Reverse log for true values also\n",
    "r2 = r2_score(np.expm1(y_test), y_pred)\n",
    "\n",
    "print(f\"Random Forest Mean Squared Error (MSE): {mse}\")\n",
    "print(f\"Random Forest R-squared (R²) Score: {r2}\")\n",
    "\n",
    "# Step 10: Visualize the predictions vs actual values\n",
    "plt.scatter(np.expm1(y_test), y_pred)\n",
    "plt.xlabel('Actual Prices')\n",
    "plt.ylabel('Predicted Prices')\n",
    "plt.title('Random Forest Actual vs Predicted House Prices')\n",
    "plt.show()\n",
    "\n",
    "# Step 11: Example of making predictions for new data\n",
    "new_data = np.array([[1.1, 4.0, 1.0, 0.0, 0.0, 5.0, 1000, 1]])  # Example new data point\n",
    "new_data_scaled = scaler.transform(new_data)\n",
    "predicted_price = rf_model.predict(new_data_scaled)\n",
    "predicted_price = np.expm1(predicted_price)  # Reverse log transformation\n",
    "print(f\"Predicted House Price for new data: {predicted_price[0]*100000}\")\n"
   ]
  }
 ],
 "metadata": {
  "language_info": {
   "name": "python"
  }
 },
 "nbformat": 4,
 "nbformat_minor": 2
}
