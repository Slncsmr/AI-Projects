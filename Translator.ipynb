{
 "cells": [
  {
   "cell_type": "code",
   "execution_count": null,
   "metadata": {
    "vscode": {
     "languageId": "plaintext"
    }
   },
   "outputs": [],
   "source": [
    "from googletrans import Translator\n",
    "\n",
    "def translate_text(text, dest_language):\n",
    "    translator = Translator()\n",
    "    translated = translator.translate(text, dest=dest_language)\n",
    "    return translated.text\n",
    "\n",
    "if __name__ == \"__main__\":\n",
    "    text = input(\"Enter text to translate: \")\n",
    "    dest_language = input(\"Enter target language (e.g., 'es' for Spanish, 'fr' for French): \")\n",
    "    translation = translate_text(text, dest_language)\n",
    "    print(f\"Translated text: {translation}\")"
   ]
  },
  {
   "cell_type": "code",
   "execution_count": null,
   "metadata": {
    "vscode": {
     "languageId": "plaintext"
    }
   },
   "outputs": [],
   "source": [
    "from transformers import MarianMTModel, MarianTokenizer\n",
    "\n",
    "def translate_text(text, src_lang, dest_lang):\n",
    "    model_name = f\"Helsinki-NLP/opus-mt-{src_lang}-{dest_lang}\"\n",
    "    tokenizer = MarianTokenizer.from_pretrained(model_name)\n",
    "    model = MarianMTModel.from_pretrained(model_name)\n",
    "\n",
    "    inputs = tokenizer(text, return_tensors=\"pt\", padding=True, truncation=True)\n",
    "    translated = model.generate(**inputs)\n",
    "    translated_text = tokenizer.decode(translated[0], skip_special_tokens=True)\n",
    "\n",
    "    return translated_text\n",
    "\n",
    "if __name__ == \"__main__\":\n",
    "    text = input(\"Enter text to translate: \")\n",
    "    src_language = \"en\"    # assuming language is english\n",
    "    dest_language = input(\"Enter target language (e.g., 'fr' for French): \")\n",
    "    translation = translate_text(text, src_language, dest_language)\n",
    "    print(f\"Translated text: {translation}\")\n"
   ]
  }
 ],
 "metadata": {
  "language_info": {
   "name": "python"
  }
 },
 "nbformat": 4,
 "nbformat_minor": 2
}
