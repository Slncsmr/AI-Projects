{
 "cells": [
  {
   "cell_type": "code",
   "execution_count": null,
   "id": "9ebe4e48",
   "metadata": {
    "vscode": {
     "languageId": "plaintext"
    }
   },
   "outputs": [],
   "source": [
    "import pandas as pd\n",
    "import gradio as gr\n",
    "from sklearn.model_selection import train_test_split\n",
    "from sklearn.tree import DecisionTreeClassifier\n",
    "from sklearn.preprocessing import LabelEncoder\n",
    "from sklearn.impute import SimpleImputer\n",
    "\n",
    "# Load Titanic dataset from seaborn or URL\n",
    "url = \"https://raw.githubusercontent.com/datasciencedojo/datasets/master/titanic.csv\"\n",
    "df = pd.read_csv(url)\n",
    "\n",
    "# Select relevant features\n",
    "features = ['Pclass', 'Sex', 'Age', 'SibSp', 'Parch', 'Fare', 'Embarked']\n",
    "df = df[features + ['Survived']]\n",
    "\n",
    "# Preprocessing\n",
    "# Fill missing values\n",
    "imputer = SimpleImputer(strategy='most_frequent')\n",
    "df[['Age', 'Embarked']] = imputer.fit_transform(df[['Age', 'Embarked']])\n",
    "\n",
    "# Encode categorical features\n",
    "le_sex = LabelEncoder()\n",
    "le_embarked = LabelEncoder()\n",
    "df['Sex'] = le_sex.fit_transform(df['Sex'])  # male=1, female=0\n",
    "df['Embarked'] = le_embarked.fit_transform(df['Embarked'])\n",
    "\n",
    "# Split dataset\n",
    "X = df[features]\n",
    "y = df['Survived']\n",
    "X_train, X_test, y_train, y_test = train_test_split(X, y, test_size=0.2, random_state=42)\n",
    "\n",
    "# Train Decision Tree Classifier\n",
    "model = DecisionTreeClassifier(max_depth=5, random_state=42)\n",
    "model.fit(X_train, y_train)\n",
    "\n",
    "# Prediction function\n",
    "def predict_survival(Pclass, Sex, Age, SibSp, Parch, Fare, Embarked):\n",
    "    sex_encoded = le_sex.transform([Sex])[0]\n",
    "    embarked_encoded = le_embarked.transform([Embarked])[0]\n",
    "    input_data = pd.DataFrame([[Pclass, sex_encoded, Age, SibSp, Parch, Fare, embarked_encoded]],\n",
    "                              columns=features)\n",
    "    prediction = model.predict(input_data)[0]\n",
    "    return \"Survived ✅\" if prediction == 1 else \"Did Not Survive ❌\"\n",
    "\n",
    "# Gradio interface\n",
    "interface = gr.Interface(\n",
    "    fn=predict_survival,\n",
    "    inputs=[\n",
    "        gr.Dropdown([1, 2, 3], label=\"Passenger Class (Pclass)\"),\n",
    "        gr.Radio(['male', 'female'], label=\"Sex\"),\n",
    "        gr.Slider(0, 80, value=30, label=\"Age\"),\n",
    "        gr.Slider(0, 5, value=0, label=\"Siblings/Spouses Aboard (SibSp)\"),\n",
    "        gr.Slider(0, 5, value=0, label=\"Parents/Children Aboard (Parch)\"),\n",
    "        gr.Slider(0, 500, value=50, label=\"Fare\"),\n",
    "        gr.Dropdown(['S', 'C', 'Q'], label=\"Port of Embarkation (Embarked)\")\n",
    "    ],\n",
    "    outputs=\"text\",\n",
    "    title=\"🚢 Titanic Survival Prediction\",\n",
    "    description=\"Enter passenger details to predict survival using a Decision Tree Classifier.\"\n",
    ")\n",
    "\n",
    "interface.launch()\n"
   ]
  }
 ],
 "metadata": {
  "language_info": {
   "name": "python"
  }
 },
 "nbformat": 4,
 "nbformat_minor": 5
}
