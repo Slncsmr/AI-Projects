{
 "cells": [
  {
   "cell_type": "code",
   "execution_count": null,
   "id": "3d4db9c4",
   "metadata": {},
   "outputs": [],
   "source": [
    "# Install required packages\n",
    "!pip install gradio tensorflow --quiet\n",
    "\n",
    "import gradio as gr\n",
    "import tensorflow as tf\n",
    "import numpy as np\n",
    "\n",
    "# Create simple ANN model\n",
    "model_ann = tf.keras.Sequential([\n",
    "    tf.keras.layers.Dense(16, activation='relu', input_shape=(3,)),\n",
    "    tf.keras.layers.Dense(1)\n",
    "])\n",
    "\n",
    "model_ann.compile(optimizer='adam', loss='mse')\n",
    "\n",
    "# Dummy data (x: 3 features, y: target)\n",
    "x_train = np.random.rand(100, 3)\n",
    "y_train = x_train @ np.array([3.5, -2.0, 1.0]) + 0.5  # Simple linear target with noise\n",
    "\n",
    "model_ann.fit(x_train, y_train, epochs=50, verbose=0)\n",
    "\n",
    "def predict_ann(a, b, c):\n",
    "    input_data = np.array([[a, b, c]])\n",
    "    prediction = model_ann.predict(input_data)[0][0]\n",
    "    return f\"Prediction: {prediction:.2f}\"\n",
    "\n",
    "gr.Interface(fn=predict_ann,\n",
    "             inputs=[gr.Number(label=\"Feature A\"), gr.Number(label=\"Feature B\"), gr.Number(label=\"Feature C\")],\n",
    "             outputs=\"text\",\n",
    "             title=\"Simple ANN Predictor\").launch()\n"
   ]
  }
 ],
 "metadata": {
  "language_info": {
   "name": "python"
  }
 },
 "nbformat": 4,
 "nbformat_minor": 5
}
