{
 "cells": [
  {
   "cell_type": "code",
   "execution_count": null,
   "metadata": {
    "vscode": {
     "languageId": "plaintext"
    }
   },
   "outputs": [],
   "source": [
    "import gradio as gr\n",
    "import numpy as np\n",
    "import pandas as pd\n",
    "from sklearn.model_selection import train_test_split\n",
    "from sklearn.linear_model import LogisticRegression\n",
    "from sklearn.preprocessing import StandardScaler\n",
    "\n",
    "# Sample dataset (replace with real dataset)\n",
    "data = {\n",
    "    \"Size (sq ft)\": [1500, 2000, 2500, 1800, 2200, 1700, 1600, 2400, 2100, 2300],\n",
    "    \"Bedrooms\": [3, 4, 4, 3, 5, 3, 2, 4, 4, 5],\n",
    "    \"Age (years)\": [10, 15, 20, 5, 8, 12, 6, 14, 18, 9],\n",
    "    \"Price ($)\": [300000, 400000, 500000, 350000, 450000, 320000, 280000, 480000, 420000, 460000]\n",
    "}\n",
    "\n",
    "df = pd.DataFrame(data)\n",
    "\n",
    "# Categorizing Prices (0: Affordable, 1: Expensive, 2: Luxury)\n",
    "def categorize_price(price):\n",
    "    if price < 350000:\n",
    "        return 0\n",
    "    elif price <= 450000:\n",
    "        return 1\n",
    "    else:\n",
    "        return 2\n",
    "\n",
    "df[\"Price Category\"] = df[\"Price ($)\"].apply(categorize_price)\n",
    "X = df.drop(columns=[\"Price ($)\", \"Price Category\"])\n",
    "y = df[\"Price Category\"]\n",
    "\n",
    "# Scaling the features\n",
    "scaler = StandardScaler()\n",
    "X_scaled = scaler.fit_transform(X)\n",
    "\n",
    "# Train a Logistic Regression model\n",
    "X_train, X_test, y_train, y_test = train_test_split(X_scaled, y, test_size=0.2, random_state=42)\n",
    "model = LogisticRegression()\n",
    "model.fit(X_train, y_train)\n",
    "\n",
    "def predict_category(size, bedrooms, age):\n",
    "    input_data = np.array([[size, bedrooms, age]])\n",
    "    input_scaled = scaler.transform(input_data)\n",
    "    category = model.predict(input_scaled)[0]\n",
    "    categories = {0: \"Affordable\", 1: \"Expensive\", 2: \"Luxury\"}\n",
    "    return f\"Estimated Category: {categories[category]}\"\n",
    "\n",
    "# Gradio Interface\n",
    "demo = gr.Interface(\n",
    "    fn=predict_category,\n",
    "    inputs=[\n",
    "        gr.Number(label=\"Size (sq ft)\"),\n",
    "        gr.Number(label=\"Bedrooms\"),\n",
    "        gr.Number(label=\"Age (years)\")\n",
    "    ],\n",
    "    outputs=gr.Textbox(label=\"Predicted Category\"),\n",
    "    title=\"House Price Category Prediction AI\",\n",
    "    description=\"Enter house details to get a predicted price category.\"\n",
    ")\n",
    "\n",
    "demo.launch()\n"
   ]
  }
 ],
 "metadata": {
  "language_info": {
   "name": "python"
  }
 },
 "nbformat": 4,
 "nbformat_minor": 2
}
