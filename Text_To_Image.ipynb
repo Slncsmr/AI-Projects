{
 "cells": [
  {
   "cell_type": "code",
   "execution_count": null,
   "id": "55420329",
   "metadata": {},
   "outputs": [],
   "source": [
    "pip install -U -q diffusers transformers accelerate Pillow\n",
    "\n",
    "import torch\n",
    "from diffusers import StableDiffusionPipeline\n",
    "from PIL import Image\n",
    "\n",
    "# Check if CUDA is available and set the device accordingly\n",
    "device = \"cuda\" if torch.cuda.is_available() else \"cpu\"\n",
    "\n",
    "# Load a pre-trained Stable Diffusion model from Hugging Face\n",
    "# You can choose other models from https://huggingface.co/models?pipeline_tag=text-to-image\n",
    "model_id = \"runwayml/stable-diffusion-v1-5\"\n",
    "pipe = StableDiffusionPipeline.from_pretrained(model_id)\n",
    "pipe = pipe.to(device)\n",
    "\n",
    "def text_to_image(prompt: str, image_name: str = \"generated_image.png\"):\n",
    "    \"\"\"\n",
    "    Generates an image from a text prompt using the Stable Diffusion model.\n",
    "\n",
    "    Args:\n",
    "        prompt (str): The text description of the image to be generated.\n",
    "        image_name (str, optional): The name to save the generated image as.\n",
    "                                     Defaults to \"generated_image.png\".\n",
    "\n",
    "    Returns:\n",
    "        PIL.Image.Image: The generated image.\n",
    "    \"\"\"\n",
    "    with torch.autocast(device):\n",
    "        image = pipe(prompt).images[0]\n",
    "    image.save(image_name)\n",
    "    return image\n",
    "\n",
    "# Example usage:\n",
    "prompt = \"A futuristic cityscape at sunset with flying cars\"\n",
    "generated_image = text_to_image(prompt, \"futuristic_city.png\")\n",
    "\n",
    "# To display the image in Colab:\n",
    "generated_image"
   ]
  }
 ],
 "metadata": {
  "language_info": {
   "name": "python"
  }
 },
 "nbformat": 4,
 "nbformat_minor": 5
}
