{
 "cells": [
  {
   "cell_type": "code",
   "execution_count": null,
   "metadata": {
    "vscode": {
     "languageId": "plaintext"
    }
   },
   "outputs": [],
   "source": [
    "import gradio as gr\n",
    "import numpy as np\n",
    "import pandas as pd\n",
    "from sklearn.model_selection import train_test_split\n",
    "from sklearn.cluster import KMeans\n",
    "from sklearn.preprocessing import StandardScaler\n",
    "\n",
    "# Sample dataset (replace with real dataset)\n",
    "data = {\n",
    "    \"Size (sq ft)\": [1500, 2000, 2500, 1800, 2200, 1700, 1600, 2400, 2100, 2300],\n",
    "    \"Bedrooms\": [3, 4, 4, 3, 5, 3, 2, 4, 4, 5],\n",
    "    \"Age (years)\": [10, 15, 20, 5, 8, 12, 6, 14, 18, 9],\n",
    "    \"Price ($)\": [300000, 400000, 500000, 350000, 450000, 320000, 280000, 480000, 420000, 460000]\n",
    "}\n",
    "\n",
    "df = pd.DataFrame(data)\n",
    "X = df.drop(columns=[\"Price ($)\"])\n",
    "\n",
    "# Scaling the features\n",
    "scaler = StandardScaler()\n",
    "X_scaled = scaler.fit_transform(X)\n",
    "\n",
    "# Train a K-Means clustering model\n",
    "num_clusters = 3  # Defining 3 clusters for house price ranges\n",
    "kmeans = KMeans(n_clusters=num_clusters, random_state=42, n_init=10)\n",
    "kmeans.fit(X_scaled)\n",
    "\n",
    "def predict_cluster(size, bedrooms, age):\n",
    "    input_data = np.array([[size, bedrooms, age]])\n",
    "    input_scaled = scaler.transform(input_data)\n",
    "    cluster = kmeans.predict(input_scaled)[0]\n",
    "    return f\"Estimated Cluster: {cluster}\"\n",
    "\n",
    "# Gradio Interface\n",
    "demo = gr.Interface(\n",
    "    fn=predict_cluster,\n",
    "    inputs=[\n",
    "        gr.Number(label=\"Size (sq ft)\"),\n",
    "        gr.Number(label=\"Bedrooms\"),\n",
    "        gr.Number(label=\"Age (years)\")\n",
    "    ],\n",
    "    outputs=gr.Textbox(label=\"Predicted Cluster\"),\n",
    "    title=\"House Price Clustering AI\",\n",
    "    description=\"Enter house details to get the estimated cluster based on K-Means.\"\n",
    ")\n",
    "\n",
    "demo.launch()\n"
   ]
  }
 ],
 "metadata": {
  "language_info": {
   "name": "python"
  }
 },
 "nbformat": 4,
 "nbformat_minor": 2
}
